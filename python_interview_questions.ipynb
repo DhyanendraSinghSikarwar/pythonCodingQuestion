{
 "cells": [
  {
   "cell_type": "code",
   "execution_count": 1,
   "id": "c4d7f784",
   "metadata": {},
   "outputs": [],
   "source": [
    "x= [20,6,4,9,2,33,8]"
   ]
  },
  {
   "cell_type": "code",
   "execution_count": 2,
   "id": "96437697",
   "metadata": {},
   "outputs": [
    {
     "name": "stdout",
     "output_type": "stream",
     "text": [
      "smallest :  2\n",
      "largest :  33\n"
     ]
    }
   ],
   "source": [
    "largest= -1\n",
    "smallest= None\n",
    "\n",
    "for num in x:\n",
    "    if smallest is None:\n",
    "        smallest= x[0]\n",
    "    elif smallest > num:\n",
    "        smallest = num\n",
    "    if largest < num:\n",
    "        largest = num\n",
    "    \n",
    "print(\"smallest : \",smallest)\n",
    "print(\"largest : \",largest)\n",
    "    \n",
    "        \n",
    "        "
   ]
  },
  {
   "cell_type": "code",
   "execution_count": 3,
   "id": "04b43ca6",
   "metadata": {},
   "outputs": [
    {
     "name": "stdout",
     "output_type": "stream",
     "text": [
      "9\n",
      "33\n"
     ]
    }
   ],
   "source": [
    "for i in range(len(x)-2):\n",
    "    \n",
    "    if x[i]<x[i+1]>x[i+2]:\n",
    "        print(x[i+1])"
   ]
  },
  {
   "cell_type": "code",
   "execution_count": 4,
   "id": "577e0baf",
   "metadata": {},
   "outputs": [
    {
     "name": "stdout",
     "output_type": "stream",
     "text": [
      "101\n",
      "103\n",
      "107\n",
      "109\n",
      "113\n",
      "127\n",
      "131\n",
      "137\n",
      "139\n",
      "149\n",
      "151\n",
      "157\n",
      "163\n",
      "167\n",
      "173\n",
      "179\n",
      "181\n",
      "191\n",
      "193\n",
      "197\n",
      "199\n"
     ]
    }
   ],
   "source": [
    "# prime number between 100 to 200\n",
    "for num in range(100,200):\n",
    "    if all(num%i!=0 for i in range(2,num)):\n",
    "        print(num)"
   ]
  },
  {
   "cell_type": "code",
   "execution_count": 5,
   "id": "b7addca8",
   "metadata": {},
   "outputs": [
    {
     "data": {
      "text/plain": [
       "[1, 5, 6, 9, 22, 45, 76, 88]"
      ]
     },
     "execution_count": 5,
     "metadata": {},
     "output_type": "execute_result"
    }
   ],
   "source": [
    "# write a sort function to sort the element in a list\n",
    "x= [1,5,9,22,45,88,6,76]\n",
    "x.sort()\n",
    "x"
   ]
  },
  {
   "cell_type": "code",
   "execution_count": 6,
   "id": "fe1eaca5",
   "metadata": {},
   "outputs": [
    {
     "name": "stdout",
     "output_type": "stream",
     "text": [
      "[1, 5, 6, 9, 22, 45, 76, 88]\n"
     ]
    }
   ],
   "source": [
    "# write a sort function without using the list.sort function to sort the element in a list\n",
    "x= [1,5,9,22,45,88,6,76]\n",
    "\n",
    "final_list=[]\n",
    "# i=0\n",
    "while x:\n",
    "   \n",
    "    min=None\n",
    "    for num in x:\n",
    "        if min is None:\n",
    "            min=num\n",
    "        elif min>num:\n",
    "            min= num\n",
    "        #print(num)\n",
    "    final_list.append(min)\n",
    "    #print(min)\n",
    "    x.remove(min)\n",
    "#     i+=1\n",
    "    #print(i)\n",
    "print(final_list) \n",
    "\n"
   ]
  },
  {
   "cell_type": "code",
   "execution_count": null,
   "id": "f6f638d0",
   "metadata": {},
   "outputs": [],
   "source": []
  },
  {
   "cell_type": "code",
   "execution_count": 7,
   "id": "b10abdb1",
   "metadata": {},
   "outputs": [
    {
     "data": {
      "text/plain": [
       "[76, 6, 88, 45, 22, 9, 5, 1]"
      ]
     },
     "execution_count": 7,
     "metadata": {},
     "output_type": "execute_result"
    }
   ],
   "source": [
    "# write a python program to print a list in reverse\n",
    "x= [1,5,9,22,45,88,6,76]\n",
    "x[::-1]"
   ]
  },
  {
   "cell_type": "code",
   "execution_count": 8,
   "id": "251fd11d",
   "metadata": {},
   "outputs": [
    {
     "name": "stdout",
     "output_type": "stream",
     "text": [
      "[2, 9, 7, 4]\n"
     ]
    }
   ],
   "source": [
    "# reverse the list by for loop\n",
    "l = [4,7,9,2]\n",
    "l2=[]\n",
    "for x in range(len(l)-1,-1,-1):\n",
    "    l2.append(l[x])\n",
    "print(l2)"
   ]
  },
  {
   "cell_type": "code",
   "execution_count": 9,
   "id": "7219b3d2",
   "metadata": {},
   "outputs": [
    {
     "data": {
      "text/plain": [
       "[2, 9, 7, 4]"
      ]
     },
     "execution_count": 9,
     "metadata": {},
     "output_type": "execute_result"
    }
   ],
   "source": [
    "# reverse() makes changes in original list\n",
    "l = [4,7,9,2]\n",
    "l.reverse()\n",
    "l"
   ]
  },
  {
   "cell_type": "code",
   "execution_count": 10,
   "id": "592d5840",
   "metadata": {},
   "outputs": [
    {
     "data": {
      "text/plain": [
       "[2, 9, 7, 4]"
      ]
     },
     "execution_count": 10,
     "metadata": {},
     "output_type": "execute_result"
    }
   ],
   "source": [
    "# reversed()\n",
    "l = [4,7,9,2]\n",
    "y=list(reversed(l))\n",
    "y"
   ]
  },
  {
   "cell_type": "code",
   "execution_count": 11,
   "id": "0535515e",
   "metadata": {},
   "outputs": [
    {
     "name": "stdout",
     "output_type": "stream",
     "text": [
      "True\n"
     ]
    }
   ],
   "source": [
    "# check whether a string is Palindrome or not(ex-  Madam )\n",
    "x = \"madam\"\n",
    "s= \"\".join(reversed(x)) # since reversed function return seperate element\n",
    "# print([i for i in s])\n",
    "\n",
    "if s== x:\n",
    "    print(True)\n",
    "else:\n",
    "    print(False)"
   ]
  },
  {
   "cell_type": "code",
   "execution_count": 12,
   "id": "5d036e69",
   "metadata": {},
   "outputs": [
    {
     "name": "stdout",
     "output_type": "stream",
     "text": [
      "{1, 4, 5}\n"
     ]
    }
   ],
   "source": [
    "# program to print set of duplicates in a list\n",
    "l= [1,2,3,4,4,5,6,5,1]\n",
    "print(set([x for x in l if l.count(x)>1]))"
   ]
  },
  {
   "cell_type": "code",
   "execution_count": 13,
   "id": "6a88716d",
   "metadata": {},
   "outputs": [
    {
     "name": "stdout",
     "output_type": "stream",
     "text": [
      "enter number : 5\n",
      "0\n",
      "1\n",
      "1\n",
      "2\n",
      "3\n"
     ]
    }
   ],
   "source": [
    "# write fibbonacci series, using while loop and generator function\n",
    "def fin_gen():\n",
    "    a=0\n",
    "    b=1\n",
    "    while 1:\n",
    "        yield a\n",
    "        c=a+b\n",
    "        a,b=b,c\n",
    "b= fin_gen()\n",
    "z= int(input(\"enter number : \"))\n",
    "for x in range(z):\n",
    "    print(next(b))\n"
   ]
  },
  {
   "cell_type": "code",
   "execution_count": 14,
   "id": "317e8505",
   "metadata": {},
   "outputs": [
    {
     "name": "stdout",
     "output_type": "stream",
     "text": [
      "enter4\n"
     ]
    },
    {
     "data": {
      "text/plain": [
       "[0, 1, 1, 2]"
      ]
     },
     "execution_count": 14,
     "metadata": {},
     "output_type": "execute_result"
    }
   ],
   "source": [
    "# write fibbonacci series, using for loop and generator function\n",
    "k=int(input(\"enter\"))\n",
    "def fib(num):\n",
    "    a,b=0,1\n",
    "    for x in range(num):\n",
    "        yield a\n",
    "        a,b=b,a+b\n",
    "z=list(fib(k))\n",
    "z"
   ]
  },
  {
   "cell_type": "code",
   "execution_count": 15,
   "id": "dd848e94",
   "metadata": {},
   "outputs": [
    {
     "name": "stdout",
     "output_type": "stream",
     "text": [
      "4\n",
      "0\n",
      "1\n",
      "1\n",
      "2\n"
     ]
    }
   ],
   "source": [
    "y=int(input())\n",
    "def func(n):\n",
    "    if n==0:\n",
    "        return 0\n",
    "    elif n==1:\n",
    "        return 1\n",
    "    else:\n",
    "        return func(n-1)+ func(n-2)\n",
    "for x in range(y):\n",
    "    print(func(x))\n"
   ]
  },
  {
   "cell_type": "code",
   "execution_count": 16,
   "id": "cdc695b1",
   "metadata": {},
   "outputs": [
    {
     "name": "stdout",
     "output_type": "stream",
     "text": [
      "enter the value4\n",
      "0\n",
      "1\n",
      "1\n",
      "2\n"
     ]
    }
   ],
   "source": [
    "# write a python program to print Fibonacci Series\n",
    "\n",
    "y=int(input(\"enter the value\"))\n",
    "def func(n):\n",
    "    if n==0:\n",
    "        return 0\n",
    "    elif n==1:\n",
    "        return 1\n",
    "    else:\n",
    "        return func(n-1)+func(n-2)\n",
    "for x in range(y):\n",
    "    print(func(x))"
   ]
  },
  {
   "cell_type": "code",
   "execution_count": 17,
   "id": "9ba7372c",
   "metadata": {},
   "outputs": [
    {
     "name": "stdout",
     "output_type": "stream",
     "text": [
      "2022-11-17 22:19:19.630560\n"
     ]
    },
    {
     "data": {
      "text/plain": [
       "'22-11-17 22:19:19'"
      ]
     },
     "execution_count": 17,
     "metadata": {},
     "output_type": "execute_result"
    }
   ],
   "source": [
    "#print current date and time\n",
    "import datetime\n",
    "print(datetime.datetime.now())\n",
    "today= datetime.datetime.now()\n",
    "today.strftime(\"%y-%m-%d %H:%M:%S\")"
   ]
  },
  {
   "cell_type": "code",
   "execution_count": 18,
   "id": "35a692db",
   "metadata": {},
   "outputs": [
    {
     "name": "stdout",
     "output_type": "stream",
     "text": [
      "valid\n"
     ]
    }
   ],
   "source": [
    "# to find email is valid or not\n",
    "import re\n",
    "def reg(mail):\n",
    "    regex=\"^[a-z0-9.%+-]+@[a-z0-9]+\\.[a-z]{2,}$\"\n",
    "    if len(mail)>7:\n",
    "        if re.match(regex,mail,re.IGNORECASE) is not None:\n",
    "            return True\n",
    "if reg(\"netsetos@gmail.com\"):\n",
    "    print(\"valid\")\n",
    "else:\n",
    "    print(\"invalid\")"
   ]
  },
  {
   "cell_type": "code",
   "execution_count": 20,
   "id": "b6ae2a45",
   "metadata": {},
   "outputs": [
    {
     "name": "stdout",
     "output_type": "stream",
     "text": [
      "nt\n",
      "C:\\Users\\Dhyanendra Singh\\coding folder\\practice\\python\n"
     ]
    },
    {
     "ename": "FileExistsError",
     "evalue": "[WinError 183] Cannot create a file when that file already exists: 'new'",
     "output_type": "error",
     "traceback": [
      "\u001b[1;31m---------------------------------------------------------------------------\u001b[0m",
      "\u001b[1;31mFileExistsError\u001b[0m                           Traceback (most recent call last)",
      "\u001b[1;32m<ipython-input-20-11f7c2ff2055>\u001b[0m in \u001b[0;36m<module>\u001b[1;34m\u001b[0m\n\u001b[0;32m      3\u001b[0m \u001b[0mprint\u001b[0m\u001b[1;33m(\u001b[0m\u001b[0mos\u001b[0m\u001b[1;33m.\u001b[0m\u001b[0mname\u001b[0m\u001b[1;33m)\u001b[0m  \u001b[1;31m# nt is name for window\u001b[0m\u001b[1;33m\u001b[0m\u001b[1;33m\u001b[0m\u001b[0m\n\u001b[0;32m      4\u001b[0m \u001b[0mprint\u001b[0m\u001b[1;33m(\u001b[0m\u001b[0mos\u001b[0m\u001b[1;33m.\u001b[0m\u001b[0mgetcwd\u001b[0m\u001b[1;33m(\u001b[0m\u001b[1;33m)\u001b[0m\u001b[1;33m)\u001b[0m \u001b[1;31m# get current working directory\u001b[0m\u001b[1;33m\u001b[0m\u001b[1;33m\u001b[0m\u001b[0m\n\u001b[1;32m----> 5\u001b[1;33m \u001b[0mos\u001b[0m\u001b[1;33m.\u001b[0m\u001b[0mmkdir\u001b[0m\u001b[1;33m(\u001b[0m\u001b[1;34m\"new\"\u001b[0m\u001b[1;33m)\u001b[0m  \u001b[1;31m# to make new directory\u001b[0m\u001b[1;33m\u001b[0m\u001b[1;33m\u001b[0m\u001b[0m\n\u001b[0m\u001b[0;32m      6\u001b[0m \u001b[0mos\u001b[0m\u001b[1;33m.\u001b[0m\u001b[0mrmdir\u001b[0m\u001b[1;33m(\u001b[0m\u001b[1;34m\"new\"\u001b[0m\u001b[1;33m)\u001b[0m  \u001b[1;31m# to remove directory\u001b[0m\u001b[1;33m\u001b[0m\u001b[1;33m\u001b[0m\u001b[0m\n\u001b[0;32m      7\u001b[0m \u001b[0mos\u001b[0m\u001b[1;33m.\u001b[0m\u001b[0mmakedirs\u001b[0m\u001b[1;33m(\u001b[0m\u001b[1;34m\"new//new2\"\u001b[0m\u001b[1;33m)\u001b[0m \u001b[1;31m# to make directory under directory\u001b[0m\u001b[1;33m\u001b[0m\u001b[1;33m\u001b[0m\u001b[0m\n",
      "\u001b[1;31mFileExistsError\u001b[0m: [WinError 183] Cannot create a file when that file already exists: 'new'"
     ]
    }
   ],
   "source": [
    "# what is OS?\n",
    "import os\n",
    "print(os.name)  # nt is name for window\n",
    "print(os.getcwd()) # get current working directory\n",
    "os.mkdir(\"new\")  # to make new directory\n",
    "os.rmdir(\"new\")  # to remove directory\n",
    "os.makedirs(\"new//new2\") # to make directory under directory\n",
    "os.listdir()  # to view all list"
   ]
  },
  {
   "cell_type": "code",
   "execution_count": 21,
   "id": "10582a1d",
   "metadata": {},
   "outputs": [
    {
     "name": "stdout",
     "output_type": "stream",
     "text": [
      "['Hii, This is Dhyanendra Singh.', 'I have completed my M.Tech from NIT-Bhopal. ', 'I have also done certification courses from coursera like \"Python for everyone\" offered by University of Michighan.', 'I have also done one cerification course from IIT-Madras. The name of the course is \"Python for Data Science.']\n"
     ]
    }
   ],
   "source": [
    "# to a read file with multiple lines and split data by lines? also split into words\\\n",
    "fb= open(\"title.txt\") \n",
    "data= fb.read()\n",
    "# print(data)\n",
    "\n",
    "lines= data.split(\"\\n\")\n",
    "print(lines)\n",
    "# for line in lines:\n",
    "#     words= line.split(\" \")\n",
    "#     for word in words:\n",
    "#         print(word)\n",
    "fb.close()"
   ]
  },
  {
   "cell_type": "code",
   "execution_count": 22,
   "id": "24f71d72",
   "metadata": {},
   "outputs": [
    {
     "name": "stdout",
     "output_type": "stream",
     "text": [
      "['Hii,', 'This', 'is', 'Dhyanendra', 'Singh.', 'I', 'have', 'completed', 'my', 'M.Tech', 'from', 'NIT-Bhopal.', 'I', 'have', 'also', 'done', 'certification', 'courses', 'from', 'coursera', 'like', '\"Python', 'for', 'everyone\"', 'offered', 'by', 'University', 'of', 'Michighan.', 'I', 'have', 'also', 'done', 'one', 'cerification', 'course', 'from', 'IIT-Madras.', 'The', 'name', 'of', 'the', 'course', 'is', '\"Python', 'for', 'Data', 'Science.']\n"
     ]
    }
   ],
   "source": [
    "with open(\"title.txt\", \"r\") as f:\n",
    "    x=f.read()\n",
    "print(x.split())"
   ]
  },
  {
   "cell_type": "code",
   "execution_count": 23,
   "id": "95ca46fc",
   "metadata": {},
   "outputs": [
    {
     "name": "stdout",
     "output_type": "stream",
     "text": [
      "{1: 'a', 2: 'b', 3: 'c', 4: 'd'}\n",
      "{1: 'a', 2: 'b', 3: 'c', 4: 'd'}\n"
     ]
    }
   ],
   "source": [
    "# merge one dictionary to other dictionary\n",
    "dict1={1:\"a\",2:\"b\"}\n",
    "dict2={3:\"c\",4:\"d\"}\n",
    "dict1.update(dict2)      # method 1\n",
    "print(dict1)\n",
    "\n",
    "dict3={**dict1,**dict2}  # method 2\n",
    "print(dict3)"
   ]
  },
  {
   "cell_type": "code",
   "execution_count": 24,
   "id": "18476d9a",
   "metadata": {},
   "outputs": [
    {
     "name": "stdout",
     "output_type": "stream",
     "text": [
      "[1, 2, 3, 4, 5]\n",
      "[1, 4, 2, 5, 3]\n",
      "{'car': {'toyota', 'ford'}, 'brand': {'mustang', 'rang'}}\n"
     ]
    }
   ],
   "source": [
    "# remove duplicates from list\n",
    "arr=[1,4,2,5,2,3,4,1,4,5,2,3]\n",
    "\n",
    "#set\n",
    "arr2=list(set(arr))\n",
    "print(arr2)\n",
    "\n",
    "#using array\n",
    "arr3=[]\n",
    "for i in arr:\n",
    "    if i not in arr3:\n",
    "        arr3.append(i)\n",
    "print(arr3)\n",
    "\n",
    "#using dictionary\n",
    "dict1 ={\"car\":[\"ford\",\"toyota\",\"ford\",\"toyota\"],\n",
    "       \"brand\":[\"mustang\",\"rang\",\"mustang\",\"rang\"]}\n",
    "dict2={}\n",
    "for key,value in dict1.items():\n",
    "    dict2[key]=set(value)\n",
    "print(dict2)"
   ]
  },
  {
   "cell_type": "code",
   "execution_count": 25,
   "id": "d13e2232",
   "metadata": {},
   "outputs": [
    {
     "name": "stdout",
     "output_type": "stream",
     "text": [
      "enter str1rt\n",
      "enter str2tr\n"
     ]
    },
    {
     "data": {
      "text/plain": [
       "{'r', 't'}"
      ]
     },
     "execution_count": 25,
     "metadata": {},
     "output_type": "execute_result"
    }
   ],
   "source": [
    "# write a code to findout common letters between 2 strings\n",
    "#ex- NAINA and REENE  common is \"N\"\n",
    "def func():\n",
    "    str1= input(\"enter str1\")\n",
    "    str2= input(\"enter str2\")\n",
    "    str1=set(str1)\n",
    "    str2=set(str2)\n",
    "    com= str1& str2\n",
    "    return com\n",
    "z= func()\n",
    "z"
   ]
  },
  {
   "cell_type": "code",
   "execution_count": 27,
   "id": "004c6364",
   "metadata": {},
   "outputs": [
    {
     "name": "stdout",
     "output_type": "stream",
     "text": [
      "enter stringsheena loves eating apples and mangoes.Her sister also loves eating apples and mangoes\n",
      "{'sheena': 1, 'loves': 2, 'eating': 2, 'apples': 2, 'and': 2, 'mangoes.Her': 1, 'sister': 1, 'also': 1, 'mangoes': 1}\n"
     ]
    }
   ],
   "source": [
    "# code to count frequency of words\n",
    "def func():\n",
    "    str1=input(\"enter string\") # sheena loves eating apples and mangoes.Her sister also loves eating apples and mangoes\n",
    "    li = str1.split()\n",
    "    d={}\n",
    "    for i in li:\n",
    "        if i not in d.keys():\n",
    "            d[i]=0\n",
    "        d[i]+=1\n",
    "    print(d)\n",
    "func()"
   ]
  },
  {
   "cell_type": "code",
   "execution_count": 28,
   "id": "9e9cdcdf",
   "metadata": {},
   "outputs": [
    {
     "name": "stdout",
     "output_type": "stream",
     "text": [
      "{1: 'one', 2: 'two', 3: 'three'}\n"
     ]
    }
   ],
   "source": [
    "# lists to dict\n",
    "def func():\n",
    "    keys=[1,2,3]\n",
    "    values=[\"one\",\"two\",\"three\"]\n",
    "    results=dict(zip(keys,values))\n",
    "    print(results)\n",
    "func()"
   ]
  },
  {
   "cell_type": "code",
   "execution_count": 29,
   "id": "a0fe71a9",
   "metadata": {},
   "outputs": [
    {
     "name": "stdout",
     "output_type": "stream",
     "text": [
      "please enter the number : n\n"
     ]
    }
   ],
   "source": [
    "# finding sum and average\n",
    "num=0\n",
    "sum=0\n",
    "\n",
    "while True:\n",
    "\n",
    "    x= input('please enter the number : ')\n",
    "    \n",
    "    if x=='n' or x =='N':\n",
    "        break\n",
    "    try:\n",
    "        x= float(x)\n",
    "        \n",
    "    except:\n",
    "        print('invalid input')\n",
    "        continue\n",
    "    sum= x+ sum\n",
    "    num =num+ 1\n",
    "    avg = sum/num\n",
    "    print(f'sum : {sum},numbers : {num}, avg : {avg}')"
   ]
  },
  {
   "cell_type": "code",
   "execution_count": 30,
   "id": "82906892",
   "metadata": {},
   "outputs": [
    {
     "name": "stdout",
     "output_type": "stream",
     "text": [
      "enter the number : 5\n",
      "5 is a prime number \n"
     ]
    }
   ],
   "source": [
    "# to find whether it is prime number\n",
    "\n",
    "num = int(input('enter the number : '))\n",
    "\n",
    "isDivisible= False\n",
    "\n",
    "i=2;\n",
    "while i< num:\n",
    "    if num% i ==0:\n",
    "        isDivisible= True\n",
    "        print('{} is dividible by {}'.format(num,i))\n",
    "        break\n",
    "    i+=1\n",
    "if isDivisible:\n",
    "    print('{} is NOT a prime number'.format(num))\n",
    "else:\n",
    "    print('{} is a prime number '.format(num))"
   ]
  },
  {
   "cell_type": "code",
   "execution_count": 31,
   "id": "db30867e",
   "metadata": {},
   "outputs": [
    {
     "name": "stdout",
     "output_type": "stream",
     "text": [
      "prime numbers between 10 and 50 are : \n",
      "11\n",
      "13\n",
      "17\n",
      "19\n",
      "23\n",
      "29\n",
      "31\n",
      "37\n",
      "41\n",
      "43\n",
      "47\n"
     ]
    }
   ],
   "source": [
    "# to display all the prime number between 10 to 50\n",
    "idx1=10\n",
    "idx2=50\n",
    "\n",
    "print('prime numbers between {0} and {1} are : '.format(idx1,idx2))\n",
    "\n",
    "for num in range(idx1,idx2+1):\n",
    "    if num>1:\n",
    "        isDivisible =False;\n",
    "        for index in range(2,num):\n",
    "            if num % index==0:\n",
    "                isDivisible = True\n",
    "        if not isDivisible:\n",
    "            print(num)"
   ]
  },
  {
   "cell_type": "markdown",
   "id": "1aaab98f",
   "metadata": {},
   "source": [
    "## youtube"
   ]
  },
  {
   "cell_type": "code",
   "execution_count": null,
   "id": "5d0b9f7b",
   "metadata": {},
   "outputs": [],
   "source": [
    "#palindrome"
   ]
  },
  {
   "cell_type": "code",
   "execution_count": 33,
   "id": "f4b267d6",
   "metadata": {},
   "outputs": [
    {
     "name": "stdout",
     "output_type": "stream",
     "text": [
      "Yes! its a palindrome\n"
     ]
    }
   ],
   "source": [
    "# for string \n",
    "#A. By using Split Method (****Best***)\n",
    "\n",
    "def palindrome(s):\n",
    "    temp=s[::-1]\n",
    "    if s== temp:\n",
    "        print(\"Yes! its a palindrome\")\n",
    "    else:\n",
    "        print('No! its not a palindrome')\n",
    "s='nitin'\n",
    "palindrome(s)"
   ]
  },
  {
   "cell_type": "code",
   "execution_count": 34,
   "id": "1324081e",
   "metadata": {},
   "outputs": [
    {
     "data": {
      "text/plain": [
       "True"
      ]
     },
     "execution_count": 34,
     "metadata": {},
     "output_type": "execute_result"
    }
   ],
   "source": [
    "# B. By using indexing/using for loop\n",
    "def palindrome2(s):\n",
    "    n=len(s)\n",
    "    for i in range(n):\n",
    "        if s[i]!=s[n-1-i]:\n",
    "            return False\n",
    "    return True\n",
    "\n",
    "s='nitin'\n",
    "palindrome2(s)"
   ]
  },
  {
   "cell_type": "code",
   "execution_count": 36,
   "id": "83f9435a",
   "metadata": {},
   "outputs": [
    {
     "data": {
      "text/plain": [
       "True"
      ]
     },
     "execution_count": 36,
     "metadata": {},
     "output_type": "execute_result"
    }
   ],
   "source": [
    "# by using inbuilt functions- reversedand join\n",
    "def palindrome3(s):\n",
    "    temp = ''.join(reversed(s))\n",
    "    if s==temp:\n",
    "        return True\n",
    "    else:\n",
    "        return False\n",
    "s='nitin'\n",
    "palindrome3(s)"
   ]
  },
  {
   "cell_type": "code",
   "execution_count": 49,
   "id": "86cdefac",
   "metadata": {},
   "outputs": [
    {
     "data": {
      "text/plain": [
       "True"
      ]
     },
     "execution_count": 49,
     "metadata": {},
     "output_type": "execute_result"
    }
   ],
   "source": [
    "# by using WHILE loop\n",
    "def palindrome4(s):\n",
    "    i=0\n",
    "    n=len(s)\n",
    "    while i<n:\n",
    "        if s[i]!=s[n-1-i]:\n",
    "            return False\n",
    "        i+=1\n",
    "    return True\n",
    "x='nitin'\n",
    "palindrome4(x)\n",
    "\n",
    "# or other while loop\n",
    "\n",
    "def palindrome5(s):\n",
    "    n=len(s)\n",
    "    first = 0\n",
    "    last = n-1\n",
    "    while (first<last):\n",
    "        if s[first]==s[last]:\n",
    "            first+=1\n",
    "            last-=1\n",
    "        else:\n",
    "            return False\n",
    "    return True\n",
    "s= 'nitin'\n",
    "palindrome5(s)\n"
   ]
  },
  {
   "cell_type": "code",
   "execution_count": 63,
   "id": "2a608d5c",
   "metadata": {},
   "outputs": [
    {
     "data": {
      "text/plain": [
       "True"
      ]
     },
     "execution_count": 63,
     "metadata": {},
     "output_type": "execute_result"
    }
   ],
   "source": [
    "# for number(****Best***)\n",
    "# by using WHILE loop\n",
    "def palindrome6(n):\n",
    "    temp=n              #1456\n",
    "    rev_n= 0\n",
    "    while (temp>0):\n",
    "        digit= temp%10   #6\n",
    "        #print(digit)\n",
    "        rev_n= rev_n*10 + digit\n",
    "        #rev_n = 0*10 + 6 = 6\n",
    "        temp = temp// 10  #145\n",
    "        #print(temp)\n",
    "    if n==rev_n:\n",
    "        return True\n",
    "    else:\n",
    "        return False\n",
    "n=12345654321\n",
    "palindrome6(n)"
   ]
  },
  {
   "cell_type": "code",
   "execution_count": 66,
   "id": "5ed7cc64",
   "metadata": {},
   "outputs": [],
   "source": [
    "#fibonacci Series"
   ]
  },
  {
   "cell_type": "code",
   "execution_count": 79,
   "id": "472d11ae",
   "metadata": {},
   "outputs": [
    {
     "name": "stdout",
     "output_type": "stream",
     "text": [
      "0\n",
      "1\n",
      "1\n",
      "2\n",
      "3\n",
      "5\n"
     ]
    }
   ],
   "source": [
    "#1. find the fibonaci series from 0 to nth number using while loop\n",
    "#using WHILE loop\n",
    "\n",
    "def fib(n):\n",
    "    a,b = 0,1\n",
    "    while (b<n):\n",
    "        print(a)\n",
    "        a,b=b,a+b\n",
    "fib(10)"
   ]
  },
  {
   "cell_type": "code",
   "execution_count": 89,
   "id": "b9a208e8",
   "metadata": {},
   "outputs": [
    {
     "name": "stdout",
     "output_type": "stream",
     "text": [
      "0\n",
      "1\n",
      "1\n",
      "2\n",
      "3\n",
      "5\n",
      "8\n",
      "13\n",
      "21\n",
      "34\n",
      "55\n"
     ]
    }
   ],
   "source": [
    "# by using for loop\n",
    "def fib2(n):\n",
    "    a,b=0,1\n",
    "    if n==1:\n",
    "        print(a)\n",
    "    else:\n",
    "        print(a)\n",
    "        print(b)\n",
    "        for i in range(2,n):\n",
    "            a,b=b,a+b\n",
    "            print(b)\n",
    "fib2(11)"
   ]
  },
  {
   "cell_type": "code",
   "execution_count": 91,
   "id": "a8d7c139",
   "metadata": {},
   "outputs": [
    {
     "name": "stdout",
     "output_type": "stream",
     "text": [
      "0\n",
      "1\n",
      "1\n",
      "2\n",
      "3\n",
      "5\n",
      "8\n",
      "13\n",
      "21\n",
      "34\n"
     ]
    }
   ],
   "source": [
    "#by using recursion  (**Best**)\n",
    "def feb3(n):\n",
    "    if n<=1:\n",
    "        return n\n",
    "    else:\n",
    "        return (feb3(n-1) + feb3(n-2))\n",
    "n=10\n",
    "if n<0:\n",
    "    print('Invalid')\n",
    "else:\n",
    "    for i  in range(n):\n",
    "        print(feb3(i))"
   ]
  },
  {
   "cell_type": "code",
   "execution_count": 93,
   "id": "57cc6c7a",
   "metadata": {},
   "outputs": [],
   "source": [
    "# Compress string - compressing number between strings"
   ]
  },
  {
   "cell_type": "code",
   "execution_count": 8,
   "id": "51bd2cd4",
   "metadata": {},
   "outputs": [
    {
     "data": {
      "text/plain": [
       "'a2b2c2a4f3e1i3'"
      ]
     },
     "execution_count": 8,
     "metadata": {},
     "output_type": "execute_result"
    }
   ],
   "source": [
    "#input-  aabbccaaaafffeiii\n",
    "#output - a2b2c2a4f3e1i3\n",
    "\n",
    "#using for loop ***BEST***\n",
    "\n",
    "def compress(s):\n",
    "    n=len(s)\n",
    "    new_s=''\n",
    "    count=1\n",
    "    for i in range(n-1):\n",
    "        if s[i]==s[i+1]:\n",
    "            count+=1\n",
    "        else:\n",
    "            new_s=new_s+ s[i]+ str(count)\n",
    "            #new_s +=(s[i]+str(count))\n",
    "            count=1\n",
    "    new_s = new_s + s[n-1]+str(count)     # important don't forget\n",
    "    return new_s\n",
    "\n",
    "s= 'aabbccaaaafffeiii'\n",
    "compress(s)"
   ]
  },
  {
   "cell_type": "code",
   "execution_count": 22,
   "id": "c9ee232e",
   "metadata": {},
   "outputs": [
    {
     "data": {
      "text/plain": [
       "'a6b2c2f3e1i3'"
      ]
     },
     "execution_count": 22,
     "metadata": {},
     "output_type": "execute_result"
    }
   ],
   "source": [
    "#other way  ***Good***\n",
    "s= 'aabbccaaaafffeiii'\n",
    "def comp(s):\n",
    "    app={}\n",
    "    new_s=''\n",
    "    for i in s:      \n",
    "        if i not in app:\n",
    "            app[i]=1\n",
    "            #print(app)\n",
    "        else:\n",
    "            app[i]=app[i]+1            \n",
    "    for i,j in app.items(): \n",
    "        new_s = new_s+i+str(j)\n",
    "    return new_s\n",
    "comp(s)\n",
    "            \n",
    "    "
   ]
  },
  {
   "cell_type": "code",
   "execution_count": 35,
   "id": "18eba469",
   "metadata": {},
   "outputs": [
    {
     "data": {
      "text/plain": [
       "'a2b2c2a4f3e1i3'"
      ]
     },
     "execution_count": 35,
     "metadata": {},
     "output_type": "execute_result"
    }
   ],
   "source": [
    "# by using WHILE loop\n",
    "\n",
    "s= 'aabbccaaaafffeiii'\n",
    "def comp1(s):\n",
    "    dct={}\n",
    "    new_s=''\n",
    "    count=1\n",
    "    i=0\n",
    "    while i<len(s)-1:\n",
    "        if s[i] == s[i+1]:\n",
    "            count+=1\n",
    "        else:\n",
    "            new_s = new_s + s[i]+ str(count)\n",
    "            count=1\n",
    "        i+=1\n",
    "    new_s = new_s + s[len(s)-1]+ str(count)  \n",
    "    return new_s\n",
    "comp1(s)\n",
    "    \n",
    "    \n",
    "#or\n",
    "s= 'aabbccaaaafffeiii'\n",
    "def comp2(s):\n",
    "    n=len(s)\n",
    "    i=0\n",
    "    new_s=''\n",
    "    while (i<n-1):\n",
    "        count=1\n",
    "        while (i<n-1 and s[i]==s[i+1]):\n",
    "            count+=1\n",
    "            i+=1\n",
    "            #print(i)\n",
    "        i+=1\n",
    "        new_s= new_s + s[i-1] + str(count)\n",
    "        \n",
    "    return new_s\n",
    "comp2(s)"
   ]
  },
  {
   "cell_type": "code",
   "execution_count": 41,
   "id": "3a081e62",
   "metadata": {},
   "outputs": [],
   "source": [
    "# FizzBuzz\n",
    "\n",
    "# if number divisible by 3 - print Fizz\n",
    "# if number divisible by 5 - print Buzz\n",
    "# if number divisible by 15 - print FizzBuzz\n",
    "# else print the number\n",
    "# 1 - 1\n",
    "# 2 - 2\n",
    "# 3 - Fizz\n",
    "# 4 - 4\n",
    "# 5 - Buzz\n",
    "# 6 - Fizz\n",
    "# ........\n",
    "# 15 - FizzBuzz"
   ]
  },
  {
   "cell_type": "code",
   "execution_count": 44,
   "id": "7553e151",
   "metadata": {},
   "outputs": [
    {
     "name": "stdout",
     "output_type": "stream",
     "text": [
      "enter the number : 5\n",
      "1  -  1\n",
      "2  -  2\n",
      "3  -  Fizz\n",
      "4  -  4\n",
      "5  -  Buzz\n"
     ]
    }
   ],
   "source": [
    "# By Using for loop  ***BEST***\n",
    "\n",
    "def fizbuz(n):\n",
    "    for i in range(1,n+1):\n",
    "        if i%3 ==0 and i%5 == 0:   # i%15==0\n",
    "            print(i,' -  FizzBuzz')\n",
    "        elif i%3==0:\n",
    "            print(i,' -  Fizz')\n",
    "        elif i%5==0:\n",
    "            print(i,' -  Buzz') \n",
    "        else :\n",
    "            print (i,' - ',i)\n",
    "x= int(input('enter the number : '))\n",
    "fizbuz(x)\n",
    "            "
   ]
  },
  {
   "cell_type": "code",
   "execution_count": 50,
   "id": "aab89889",
   "metadata": {},
   "outputs": [
    {
     "name": "stdout",
     "output_type": "stream",
     "text": [
      "1\n"
     ]
    }
   ],
   "source": [
    "# By using Dictionary\n",
    "\n",
    "def fizbuz2(n):\n",
    "    d={3: 'Fizz',\n",
    "      5 : 'Buzz'}\n",
    "    for i in range(1,n+1):\n",
    "        result = ''\n",
    "        for k,v in d.items():\n",
    "            if i%k==0:\n",
    "                result+=v\n",
    "        if not result:\n",
    "            result = i\n",
    "        print(result)\n",
    "fizbuz2(1)"
   ]
  },
  {
   "cell_type": "code",
   "execution_count": 54,
   "id": "c0715e6a",
   "metadata": {},
   "outputs": [],
   "source": [
    "# Character Occurence\n",
    "# 1. Least repeating character in a string\n",
    "# 2. Count of any particular element\n",
    "# 3. Count of all elements"
   ]
  },
  {
   "cell_type": "code",
   "execution_count": 89,
   "id": "6db6f600",
   "metadata": {},
   "outputs": [
    {
     "name": "stdout",
     "output_type": "stream",
     "text": [
      "{'a': 3, 'b': 3, 'h': 9, 's': 6, 'j': 4, 'i': 1, 'd': 1, 'k': 1}\n"
     ]
    },
    {
     "data": {
      "text/plain": [
       "'i'"
      ]
     },
     "execution_count": 89,
     "metadata": {},
     "output_type": "execute_result"
    }
   ],
   "source": [
    "# 1. Least repeating character in a string\n",
    "# 3. Count of all elements\n",
    "\n",
    "def least_char_occ(s):\n",
    "    ch={}\n",
    "    for i in s:\n",
    "        if i in ch:\n",
    "            ch[i]=ch[i]+1\n",
    "        else:\n",
    "            ch[i]=1\n",
    "    print(ch)\n",
    "    result= min(ch,key=ch.get)     ## important\n",
    "    return result\n",
    "s= 'aaabbbhhhshhhhhsssjjijsjshdk'\n",
    "least_char_occ(s)"
   ]
  },
  {
   "cell_type": "code",
   "execution_count": 102,
   "id": "39fd7c7c",
   "metadata": {},
   "outputs": [
    {
     "data": {
      "text/plain": [
       "'i'"
      ]
     },
     "execution_count": 102,
     "metadata": {},
     "output_type": "execute_result"
    }
   ],
   "source": [
    "###min(ch,key=ch.get)"
   ]
  },
  {
   "cell_type": "code",
   "execution_count": 79,
   "id": "d955c6a5",
   "metadata": {},
   "outputs": [
    {
     "name": "stdout",
     "output_type": "stream",
     "text": [
      "{'a': 3, 'b': 3, 'h': 9, 's': 6, 'j': 4, 'i': 1, 'd': 1, 'k': 1}\n",
      "i\n",
      "d\n",
      "k\n"
     ]
    }
   ],
   "source": [
    "# other way (my way)\n",
    "s= 'aaabbbhhhshhhhhsssjjijsjshdk'\n",
    "d={}\n",
    "for i in s:\n",
    "    if i not in d.keys():\n",
    "        d[i]=1\n",
    "    else:\n",
    "        d[i]=d[i]+1\n",
    "print(d)\n",
    "for j,k in d.items():\n",
    "    if k==min(d.values()):\n",
    "        print(j)"
   ]
  },
  {
   "cell_type": "code",
   "execution_count": 80,
   "id": "ce57c893",
   "metadata": {},
   "outputs": [
    {
     "name": "stdout",
     "output_type": "stream",
     "text": [
      "{'a': 3, 'b': 3, 'h': 9, 's': 6, 'j': 4, 'i': 1, 'd': 1, 'k': 1}\n",
      "i\n",
      "d\n",
      "k\n"
     ]
    }
   ],
   "source": [
    "# other way (my way)\n",
    "d={}\n",
    "for i in s:\n",
    "    d[i]=d.get(i,0)+ 1\n",
    "    \n",
    "print(d)\n",
    "for j,k in d.items():\n",
    "    if k==min(d.values()):\n",
    "        print(j)"
   ]
  },
  {
   "cell_type": "code",
   "execution_count": 81,
   "id": "bc841a43",
   "metadata": {},
   "outputs": [
    {
     "name": "stdout",
     "output_type": "stream",
     "text": [
      "6\n"
     ]
    }
   ],
   "source": [
    "# to find index of any number of list\n",
    "t = [1,2,3,4,5,6,7]\n",
    "for k,v in enumerate(t):\n",
    "    if v==7:\n",
    "        print(k)\n"
   ]
  },
  {
   "cell_type": "code",
   "execution_count": 88,
   "id": "1e40b000",
   "metadata": {},
   "outputs": [
    {
     "name": "stdout",
     "output_type": "stream",
     "text": [
      "i\n"
     ]
    }
   ],
   "source": [
    "# using inbuilt function Counter\n",
    "from collections import Counter\n",
    "s= 'aaabbbhhhshhhhhsssjjijsjshdk'\n",
    "ch= Counter(s)\n",
    "result = min(ch, key =ch.get)\n",
    "print(result)\n"
   ]
  },
  {
   "cell_type": "code",
   "execution_count": 106,
   "id": "0f88c985",
   "metadata": {},
   "outputs": [
    {
     "name": "stdout",
     "output_type": "stream",
     "text": [
      "5\n",
      "7\n"
     ]
    }
   ],
   "source": [
    "# 2. Count of any particular element\n",
    "\n",
    "l = [1,2,3,4,5,6,7,5,4,3,4,6,4,3,4,3,1]\n",
    "print(l.count(4))\n",
    "\n",
    "s='aacbfhvbdhwaushdtdvabavxgdaa'\n",
    "print(s.count('a'))"
   ]
  },
  {
   "cell_type": "code",
   "execution_count": 107,
   "id": "a96a180a",
   "metadata": {},
   "outputs": [
    {
     "name": "stdout",
     "output_type": "stream",
     "text": [
      "{'a': 7, 'c': 1, 'b': 3, 'f': 1, 'h': 3, 'v': 3, 'd': 4, 'w': 1, 'u': 1, 's': 1, 't': 1, 'x': 1, 'g': 1}\n",
      "7\n"
     ]
    }
   ],
   "source": [
    "# without using count function\n",
    "\n",
    "def count_char_occ(s,search_ch):\n",
    "    ch={}\n",
    "    for i in s:\n",
    "        if i in ch:\n",
    "            ch[i]=ch[i]+1\n",
    "        else:\n",
    "            ch[i]=1\n",
    "    print(ch)\n",
    "    try:\n",
    "        print(ch[search_ch])\n",
    "    except:\n",
    "        print(0)\n",
    "s='aacbfhvbdhwaushdtdvabavxgdaa'\n",
    "count_char_occ(s,'a')"
   ]
  },
  {
   "cell_type": "code",
   "execution_count": 108,
   "id": "4d0d5f11",
   "metadata": {},
   "outputs": [],
   "source": [
    "# Prime Number"
   ]
  },
  {
   "cell_type": "code",
   "execution_count": 115,
   "id": "6da60272",
   "metadata": {},
   "outputs": [
    {
     "data": {
      "text/plain": [
       "'No! Its not a prime number'"
      ]
     },
     "execution_count": 115,
     "metadata": {},
     "output_type": "execute_result"
    }
   ],
   "source": [
    "# to check if the number is a prime number or not\n",
    "\n",
    "#using Flag\n",
    "def prime_number(n):\n",
    "    flag = False\n",
    "    if n>1:\n",
    "        for i in range(2,n): #for i in range(2,n//2+1) -  to make it efficient\n",
    "            if n%i==0:\n",
    "                flag= True\n",
    "                break\n",
    "    if flag:\n",
    "        return 'No! Its not a prime number'\n",
    "    else:\n",
    "        return 'Yes! Its a prime number'\n",
    "prime_number(4)"
   ]
  },
  {
   "cell_type": "code",
   "execution_count": 120,
   "id": "ff211d32",
   "metadata": {},
   "outputs": [
    {
     "name": "stdout",
     "output_type": "stream",
     "text": [
      "Yes! Its a prime number\n"
     ]
    }
   ],
   "source": [
    "# using for-else      ********BEST*****\n",
    "def prime_number2(n):\n",
    "    if n>1:\n",
    "        for i in range(2,n):\n",
    "            if n%i==0:\n",
    "                print('No! Its not a prime number')\n",
    "                break\n",
    "        else:\n",
    "            print('Yes! Its a prime number')\n",
    "            \n",
    "prime_number2(5)        "
   ]
  },
  {
   "cell_type": "code",
   "execution_count": 125,
   "id": "8cc30882",
   "metadata": {},
   "outputs": [
    {
     "name": "stdout",
     "output_type": "stream",
     "text": [
      "2\n",
      "3\n",
      "5\n",
      "7\n",
      "11\n",
      "13\n",
      "17\n",
      "19\n",
      "23\n",
      "29\n",
      "31\n",
      "37\n",
      "41\n",
      "43\n",
      "47\n"
     ]
    }
   ],
   "source": [
    "# Display all the prime numbers within an interval\n",
    "\n",
    "def prime_number3(start,end):\n",
    "    for n in range(start,end):\n",
    "        if n>1:\n",
    "            for i in range(2,n//2+1):\n",
    "                if n%i==0:\n",
    "                    #print('No! Its not a prime number')\n",
    "                    break\n",
    "            else:\n",
    "                print(n)\n",
    "prime_number3(1,50)\n",
    "                    \n"
   ]
  },
  {
   "cell_type": "code",
   "execution_count": 126,
   "id": "dcd4cd95",
   "metadata": {},
   "outputs": [],
   "source": [
    "#Modify String Format"
   ]
  },
  {
   "cell_type": "code",
   "execution_count": 127,
   "id": "95b05c6c",
   "metadata": {},
   "outputs": [],
   "source": [
    "# Input = I_Am_A_Coder\n",
    "# Output = i.aM.a.cODER\n",
    "\n",
    "# Input = This_Is_A_Good_Morning\n",
    "# Output = tHis.Is.a.gOOD.mORNING\n",
    "\n",
    "#changes\n",
    "# _ = .\n",
    "# first upper letter = first lower letter\n",
    "# remaining lower letter = remaining upper letter\n"
   ]
  },
  {
   "cell_type": "code",
   "execution_count": 129,
   "id": "bbe5c3fa",
   "metadata": {},
   "outputs": [
    {
     "name": "stdout",
     "output_type": "stream",
     "text": [
      "i.aM.a.cODER\n"
     ]
    }
   ],
   "source": [
    "#Using List\n",
    "def string_format(s):\n",
    "    l=[]\n",
    "    temp= s.split('_')\n",
    "    for i in temp:\n",
    "        l.append(i[0].lower() + i[1:].upper())\n",
    "    s= '.'.join(l)\n",
    "    print(s)\n",
    "s= 'I_Am_A_Coder'\n",
    "string_format(s)"
   ]
  },
  {
   "cell_type": "code",
   "execution_count": 135,
   "id": "b456a5a5",
   "metadata": {},
   "outputs": [
    {
     "name": "stdout",
     "output_type": "stream",
     "text": [
      "i.aM.a.cODER\n"
     ]
    }
   ],
   "source": [
    "#Using String\n",
    "def string_format2(s):\n",
    "    new_s= ''\n",
    "    temp=s.split('_')\n",
    "    for i in temp:\n",
    "        new_s=new_s + i[0].lower() + i[1:].upper() + '.'\n",
    "    new_s = new_s[:-1]                                      # imp\n",
    "    print(new_s)\n",
    "s= 'I_Am_A_Coder'\n",
    "string_format2(s)"
   ]
  },
  {
   "cell_type": "code",
   "execution_count": 136,
   "id": "fe1eb4bb",
   "metadata": {},
   "outputs": [],
   "source": [
    "# Second Highest Number"
   ]
  },
  {
   "cell_type": "code",
   "execution_count": 137,
   "id": "15d139cf",
   "metadata": {},
   "outputs": [],
   "source": [
    "# Using for loop\n",
    "# using reverse sort\n",
    "# using set and max()"
   ]
  },
  {
   "cell_type": "code",
   "execution_count": 141,
   "id": "d0dfe377",
   "metadata": {},
   "outputs": [
    {
     "data": {
      "text/plain": [
       "30"
      ]
     },
     "execution_count": 141,
     "metadata": {},
     "output_type": "execute_result"
    }
   ],
   "source": [
    "# Using for loop\n",
    "# Assuming there will be more than 2 numbers\n",
    "\n",
    "\n",
    "#**********************not fully understood**********************Best**\n",
    "def second_highest_number(l):\n",
    "    if l[0]>l[1]:\n",
    "        first = l[0]\n",
    "        second= l[1]\n",
    "    else:\n",
    "        first = l[1]\n",
    "        second= l[0]\n",
    "    for i in range(2,len(l)):\n",
    "        if l[i]>first:\n",
    "            second= first\n",
    "            first = l[i]\n",
    "        elif l[i]>second and first!= l[i]:  # and first!= l[i] work fine in repeated digit\n",
    "            second=l[i]\n",
    "    return second\n",
    "l= [10,20,30,4,100,22]\n",
    "\n",
    "second_highest_number(l)            "
   ]
  },
  {
   "cell_type": "code",
   "execution_count": 144,
   "id": "b4b73d3f",
   "metadata": {},
   "outputs": [
    {
     "name": "stdout",
     "output_type": "stream",
     "text": [
      "[100, 30, 22, 20, 10, 4]\n",
      "10\n"
     ]
    }
   ],
   "source": [
    "# using reverse sort\n",
    "# find Nth Highest\n",
    "def second_highest_number_using_sort(l,n):\n",
    "    l.sort(reverse=True)\n",
    "    print(l)\n",
    "    print(l[n-1])\n",
    "l= [10,20,30,4,100,22]\n",
    "second_highest_number_using_sort(l,5)"
   ]
  },
  {
   "cell_type": "code",
   "execution_count": 145,
   "id": "b6c6c234",
   "metadata": {},
   "outputs": [
    {
     "name": "stdout",
     "output_type": "stream",
     "text": [
      "{2, 100, 4, 10, 44, 20, 22, 666, 30}\n",
      "{2, 100, 4, 10, 44, 20, 22, 30}\n",
      "100\n"
     ]
    }
   ],
   "source": [
    "# using set and max()\n",
    "l= [10,20,30,4,100,22,666,666,2,44,20]\n",
    "new_l = set(l)\n",
    "print(new_l)\n",
    "new_l.remove(max(new_l))\n",
    "print(new_l)\n",
    "print(max(new_l))"
   ]
  },
  {
   "cell_type": "code",
   "execution_count": 146,
   "id": "42ebfd2a",
   "metadata": {},
   "outputs": [],
   "source": [
    "#Armstrong Number\n",
    "\n",
    "# A no. that is equal to the sum of cubes of its digit\n",
    "# 153 = 1*1*1 + 5*5*5 + 3*3*3 = 1+125+27 = 153"
   ]
  },
  {
   "cell_type": "code",
   "execution_count": 147,
   "id": "efe0a1fa",
   "metadata": {},
   "outputs": [
    {
     "name": "stdout",
     "output_type": "stream",
     "text": [
      "Yes\n"
     ]
    }
   ],
   "source": [
    "def armstrong(n):\n",
    "    sum= 0 \n",
    "    temp= n\n",
    "    while temp>0:\n",
    "        digit = temp%10\n",
    "        sum = sum + (digit**3)\n",
    "        temp = temp//10\n",
    "    if n == sum:\n",
    "        print('Yes')\n",
    "    else:\n",
    "        print('No')\n",
    "n= 371\n",
    "armstrong(n)"
   ]
  },
  {
   "cell_type": "code",
   "execution_count": 149,
   "id": "cfebeae5",
   "metadata": {},
   "outputs": [
    {
     "name": "stdout",
     "output_type": "stream",
     "text": [
      "0\n",
      "1\n",
      "153\n",
      "370\n",
      "371\n",
      "407\n"
     ]
    }
   ],
   "source": [
    "# print the list of armstrong number for a particular interval\n",
    "def armstrong1(start,end):\n",
    "    for n in range(start,end):\n",
    "        sum= 0 \n",
    "        temp= n\n",
    "        while temp>0:\n",
    "            digit = temp%10\n",
    "            sum = sum + (digit**3)\n",
    "            temp = temp//10\n",
    "        if n == sum:\n",
    "            print(n)\n",
    "armstrong1(0,500)"
   ]
  },
  {
   "cell_type": "code",
   "execution_count": 151,
   "id": "20f61811",
   "metadata": {},
   "outputs": [
    {
     "data": {
      "text/plain": [
       "20"
      ]
     },
     "execution_count": 151,
     "metadata": {},
     "output_type": "execute_result"
    }
   ],
   "source": [
    "# program to write sum of digits of a number\n",
    "\n",
    "def sum_of_digit(n):\n",
    "    temp=n\n",
    "    sum = 0\n",
    "    if n>9:\n",
    "        while temp>0:\n",
    "            digit = temp%10\n",
    "            sum = sum + digit\n",
    "            temp = temp//10\n",
    "    else:\n",
    "        sum = n\n",
    "    return sum\n",
    "sum_of_digit(123455)"
   ]
  },
  {
   "cell_type": "code",
   "execution_count": 152,
   "id": "e8f2b00e",
   "metadata": {},
   "outputs": [],
   "source": [
    "# Factorial"
   ]
  },
  {
   "cell_type": "code",
   "execution_count": 153,
   "id": "8f6c2b52",
   "metadata": {},
   "outputs": [],
   "source": [
    "# for loop\n",
    "# 2nd case -  145! = 1!+ 4! + 5! = 1+24+120= 145\n",
    "# print number from 1 to 1 lakh where the 'summation' \n",
    "#           of the 'factorial of each digit' equals to the 'actual number'\n",
    "# example -  145! = 1!+ 4! + 5! = 1+24+120= 145"
   ]
  },
  {
   "cell_type": "code",
   "execution_count": 154,
   "id": "b2dd37aa",
   "metadata": {},
   "outputs": [
    {
     "data": {
      "text/plain": [
       "120"
      ]
     },
     "execution_count": 154,
     "metadata": {},
     "output_type": "execute_result"
    }
   ],
   "source": [
    "def factorial(n):\n",
    "    facto = 1\n",
    "    for i in range(1,n+1):\n",
    "        facto = facto*i       # facto*=i\n",
    "    return facto\n",
    "factorial(5)"
   ]
  },
  {
   "cell_type": "code",
   "execution_count": 155,
   "id": "47e5f065",
   "metadata": {},
   "outputs": [
    {
     "name": "stdout",
     "output_type": "stream",
     "text": [
      "yes\n"
     ]
    }
   ],
   "source": [
    "# whether number follows the case\n",
    "\n",
    "def sum_of_facto(n):\n",
    "    temp = n\n",
    "    sum = 0\n",
    "    while( temp>0):\n",
    "        digit = temp%10\n",
    "        temp =temp//10\n",
    "        facto= factorial(digit)\n",
    "        sum = sum + facto\n",
    "    if sum==n:\n",
    "        print('yes')\n",
    "    else:\n",
    "        print('No')\n",
    "sum_of_facto(145)"
   ]
  },
  {
   "cell_type": "code",
   "execution_count": 156,
   "id": "c612fef8",
   "metadata": {},
   "outputs": [
    {
     "name": "stdout",
     "output_type": "stream",
     "text": [
      "List of numbers that follows the case within interval\n",
      "1\n",
      "2\n",
      "145\n",
      "40585\n"
     ]
    }
   ],
   "source": [
    "# print number from 1 to 1 lakh where the 'summation' \n",
    "#           of the 'factorial of each digit' equals to the 'actual number'\n",
    "\n",
    "print('List of numbers that follows the case within interval')\n",
    "def sum_of_facto(start,end):\n",
    "    for n in range(start,end):\n",
    "        temp = n\n",
    "        sum = 0\n",
    "        while temp>0:\n",
    "            digit = temp%10\n",
    "            temp= temp//10\n",
    "            facto = factorial(digit)\n",
    "            sum = sum + facto\n",
    "        if sum == n:\n",
    "            print(n)\n",
    "sum_of_facto(1,200000)\n"
   ]
  },
  {
   "cell_type": "code",
   "execution_count": null,
   "id": "478f1898",
   "metadata": {},
   "outputs": [],
   "source": []
  },
  {
   "cell_type": "code",
   "execution_count": null,
   "id": "67136bc8",
   "metadata": {},
   "outputs": [],
   "source": []
  },
  {
   "cell_type": "code",
   "execution_count": null,
   "id": "6c38c197",
   "metadata": {},
   "outputs": [],
   "source": []
  },
  {
   "cell_type": "code",
   "execution_count": null,
   "id": "8f9fbbc2",
   "metadata": {},
   "outputs": [],
   "source": []
  },
  {
   "cell_type": "code",
   "execution_count": null,
   "id": "0828c8d5",
   "metadata": {},
   "outputs": [],
   "source": []
  },
  {
   "cell_type": "code",
   "execution_count": null,
   "id": "ce6d65c0",
   "metadata": {},
   "outputs": [],
   "source": []
  },
  {
   "cell_type": "code",
   "execution_count": null,
   "id": "92dd4ee8",
   "metadata": {},
   "outputs": [],
   "source": []
  },
  {
   "cell_type": "code",
   "execution_count": null,
   "id": "0c38afbf",
   "metadata": {},
   "outputs": [],
   "source": [
    "#by using for loop\n",
    "#22:27\n",
    "#https://www.youtube.com/watch?v=UFAwAw-7Zpw&list=PL1B8DuzqTNOIPAHtx1uAkAkIPYge2r7xn&index=12&t=2751s"
   ]
  }
 ],
 "metadata": {
  "kernelspec": {
   "display_name": "Python 3",
   "language": "python",
   "name": "python3"
  },
  "language_info": {
   "codemirror_mode": {
    "name": "ipython",
    "version": 3
   },
   "file_extension": ".py",
   "mimetype": "text/x-python",
   "name": "python",
   "nbconvert_exporter": "python",
   "pygments_lexer": "ipython3",
   "version": "3.8.8"
  }
 },
 "nbformat": 4,
 "nbformat_minor": 5
}
